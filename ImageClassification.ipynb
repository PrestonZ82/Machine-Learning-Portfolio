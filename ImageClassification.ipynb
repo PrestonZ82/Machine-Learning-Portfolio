{
  "nbformat": 4,
  "nbformat_minor": 0,
  "metadata": {
    "colab": {
      "provenance": []
    },
    "kernelspec": {
      "name": "python3",
      "display_name": "Python 3"
    },
    "language_info": {
      "name": "python"
    }
  },
  "cells": [
    {
      "cell_type": "code",
      "source": [
        "!pip install -q keras"
      ],
      "metadata": {
        "id": "K4PsnVymaGy7"
      },
      "execution_count": 9,
      "outputs": []
    },
    {
      "cell_type": "code",
      "source": [
        "from google.colab import files\n",
        "from google.colab import drive\n",
        "drive.mount('/content/drive/')\n",
        "\n"
      ],
      "metadata": {
        "id": "Wv39A0LwITuJ",
        "colab": {
          "base_uri": "https://localhost:8080/"
        },
        "outputId": "48f195f4-aef7-4df7-ab8d-a1648fcf7c0b"
      },
      "execution_count": 8,
      "outputs": [
        {
          "output_type": "stream",
          "name": "stdout",
          "text": [
            "Drive already mounted at /content/drive/; to attempt to forcibly remount, call drive.mount(\"/content/drive/\", force_remount=True).\n"
          ]
        }
      ]
    },
    {
      "cell_type": "code",
      "execution_count": 2,
      "metadata": {
        "id": "BAKzlRtmmIxQ",
        "colab": {
          "base_uri": "https://localhost:8080/",
          "height": 923
        },
        "outputId": "ebeb4370-8a2c-4060-ed00-67473b4192c2"
      },
      "outputs": [
        {
          "output_type": "stream",
          "name": "stdout",
          "text": [
            "The data set was already divided into a train and test set from kaggle\n",
            "Distribution graph of target classes\n"
          ]
        },
        {
          "output_type": "display_data",
          "data": {
            "text/plain": [
              "<Figure size 640x480 with 1 Axes>"
            ],
            "image/png": "[encoded data removed]"
          },
          "metadata": {}
        },
        {
          "output_type": "stream",
          "name": "stdout",
          "text": [
            "The data set is pictures of different types of environments on earth.\n",
            "There is buildings, forests, glaciers, mountains, seas, and streets.\n",
            "The model should be able to predict which category a picture falls into.\n",
            "Model: \"sequential_1\"\n",
            "_________________________________________________________________\n",
            " Layer (type)                Output Shape              Param #   \n",
            "=================================================================\n",
            " flatten_1 (Flatten)         (None, 22500)             0         \n",
            "                                                                 \n",
            " dense_3 (Dense)             (None, 512)               11520512  \n",
            "                                                                 \n",
            " dropout_2 (Dropout)         (None, 512)               0         \n",
            "                                                                 \n",
            " dense_4 (Dense)             (None, 512)               262656    \n",
            "                                                                 \n",
            " dropout_3 (Dropout)         (None, 512)               0         \n",
            "                                                                 \n",
            " dense_5 (Dense)             (None, 6)                 3078      \n",
            "                                                                 \n",
            "=================================================================\n",
            "Total params: 11,786,246\n",
            "Trainable params: 11,786,246\n",
            "Non-trainable params: 0\n",
            "_________________________________________________________________\n"
          ]
        }
      ],
      "source": [
        "import matplotlib.pyplot as plt\n",
        "import tensorflow as tf\n",
        "import keras\n",
        "\n",
        "print(\"The data set was already divided into a train and test set from kaggle\")\n",
        "\n",
        "print(\"Distribution graph of target classes\")\n",
        "x_axis = ['Buildings', 'Forest', 'Glacier', 'Mountain', 'Sea', 'Street']\n",
        "y_axis = ['437', '474', '553', '525', '510', '501']\n",
        "plt.bar(x_axis, y_axis)\n",
        "plt.title('Distribution of target classes')\n",
        "plt.xlabel('Types of Pictures')\n",
        "plt.ylabel('Amount')\n",
        "plt.show()\n",
        "\n",
        "print(\"The data set is pictures of different types of environments on earth.\")\n",
        "print(\"There is buildings, forests, glaciers, mountains, seas, and streets.\")\n",
        "print(\"The model should be able to predict which category a picture falls into.\")\n",
        "\n",
        "batch_size = 128\n",
        "num_classes = 6\n",
        "epochs = 20\n",
        "\n",
        "train_path = '/content/drive/MyDrive/seg_train'\n",
        "test_path = '/content/drive/MyDrive/seg_test'\n",
        "\n",
        "# y_train = tf.keras.utils.to_categoricaly(train_path, 6)\n",
        "# y_test = tf.keras.utils.to_categoricaly(test_path, 6)\n",
        "\n",
        "model = tf.keras.models.Sequential(\n",
        "    [\n",
        "        tf.keras.layers.Flatten(input_shape=(150, 150)),\n",
        "        tf.keras.layers.Dense(512, activation='relu'),\n",
        "        tf.keras.layers.Dropout(0.2),\n",
        "        tf.keras.layers.Dense(512, activation='relu'),\n",
        "        tf.keras.layers.Dropout(0.2),\n",
        "        tf.keras.layers.Dense(num_classes, activation='softmax')\n",
        "    ]\n",
        ")\n",
        "model.summary()\n",
        "\n",
        "model.compile(loss='categorical_crossentropy',\n",
        "              optimizer='rmsprop',\n",
        "              metrics=['accuracy'])\n",
        "\n"
      ]
    },
    {
      "cell_type": "code",
      "source": [
        "from keras import models\n",
        "from keras import layers\n",
        "from keras.optimizers import RMSprop\n",
        "import io\n",
        "import pandas as pd\n",
        "\n",
        "batch_size = 32\n",
        "img_size = (150, 150)\n",
        "train_dataset = tf.keras.image_dataset_from_directory(train_dir,\n",
        "                                                      shuffle=true,\n",
        "                                                      batch_size=batch_size,\n",
        "                                                      image_size=img_size)\n"
      ],
      "metadata": {
        "id": "jhg166qBOQTu"
      },
      "execution_count": null,
      "outputs": []
    },
    {
      "cell_type": "code",
      "source": [
        "import matplotlib.pyplot as plt\n",
        "import numpy as np\n",
        "import os\n",
        "import tensorflow as tf\n",
        "\n",
        "batch_size = 128\n",
        "num_classes = 6\n",
        "epochs = 20\n",
        "\n",
        "train_path = '/content/drive/MyDrive/seg_train'\n",
        "test_path = '/content/drive/MyDrive/seg_test'\n",
        "\n",
        "history = model.fit(train_path, train_path,\n",
        "                   batch_size=batch_size,\n",
        "                   epochs=epochs,\n",
        "                   verbose=1,\n",
        "                   validation_data=(test_path, test_path))\n",
        "\n",
        "score = model.evaluate(test_path, test_path, verbose=0)\n",
        "print(\"Test loss: \", score[0])\n",
        "print(\"Test accuracy: \", score[1])\n"
      ],
      "metadata": {
        "id": "SUuGK9QNPnDG"
      },
      "execution_count": null,
      "outputs": []
    },
    {
      "cell_type": "markdown",
      "source": [],
      "metadata": {
        "id": "i-qx7DDgIUQ9"
      }
    }
  ]
}